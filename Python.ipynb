{
  "nbformat": 4,
  "nbformat_minor": 0,
  "metadata": {
    "colab": {
      "provenance": []
    },
    "kernelspec": {
      "name": "python3",
      "display_name": "Python 3"
    },
    "language_info": {
      "name": "python"
    }
  },
  "cells": [
    {
      "cell_type": "code",
      "execution_count": 28,
      "metadata": {
        "id": "xvQFgMfhp6Ef"
      },
      "outputs": [],
      "source": [
        "def check_number(num):\n",
        "    if num > 0:\n",
        "        return \"Positive\"\n",
        "    elif num < 0:\n",
        "        return \"Negative\"\n",
        "    else:\n",
        "        return \"Zero\""
      ]
    },
    {
      "cell_type": "code",
      "source": [
        "def check_age(age):\n",
        "    if age < 18:\n",
        "        return \"Minor\"\n",
        "    elif 18 <= age < 60:\n",
        "        return \"Adult\"\n",
        "    else:\n",
        "        return \"Senior Citizen\"\n"
      ],
      "metadata": {
        "id": "t-9digTlqBck"
      },
      "execution_count": 29,
      "outputs": []
    },
    {
      "cell_type": "code",
      "source": [
        "def is_leap_year(year):\n",
        "    return (year % 4 == 0 and year % 100 != 0) or (year % 400 == 0)"
      ],
      "metadata": {
        "id": "t-GZBpHDqNo4"
      },
      "execution_count": 5,
      "outputs": []
    },
    {
      "cell_type": "code",
      "source": [
        "def even_or_odd(num):\n",
        "    return \"Even\" if num % 2 == 0 else \"Odd\""
      ],
      "metadata": {
        "id": "5LQ1p5XZqRle"
      },
      "execution_count": 6,
      "outputs": []
    },
    {
      "cell_type": "code",
      "source": [
        "def grade_letter(percentage):\n",
        "    if percentage >= 90:\n",
        "        return \"A\"\n",
        "    elif percentage >= 80:\n",
        "        return \"B\"\n",
        "    elif percentage >= 70:\n",
        "        return \"C\"\n",
        "    elif percentage >= 60:\n",
        "        return \"D\"\n",
        "    else:\n",
        "        return \"F\""
      ],
      "metadata": {
        "id": "DsRKsxcXqXF1"
      },
      "execution_count": 7,
      "outputs": []
    },
    {
      "cell_type": "code",
      "source": [
        "def largest_of_two(a, b):\n",
        "    return max(a, b)"
      ],
      "metadata": {
        "id": "MYoNk_AcqaHB"
      },
      "execution_count": 8,
      "outputs": []
    },
    {
      "cell_type": "code",
      "source": [
        "def largest_of_three(a, b, c):\n",
        "    return max(a, b, c)\n"
      ],
      "metadata": {
        "id": "WWEgX2Zlqcj1"
      },
      "execution_count": 10,
      "outputs": []
    },
    {
      "cell_type": "code",
      "source": [
        "def is_prime(num):\n",
        "    if num <= 1:\n",
        "        return False\n",
        "    for i in range(2, int(num**0.5) + 1):\n",
        "        if num % i == 0:\n",
        "            return False\n",
        "    return True"
      ],
      "metadata": {
        "id": "tD3rYhM9qnEh"
      },
      "execution_count": 11,
      "outputs": []
    },
    {
      "cell_type": "code",
      "source": [
        "def check_case(s):\n",
        "    if s.isupper():\n",
        "        return \"Uppercase\"\n",
        "    elif s.islower():\n",
        "        return \"Lowercase\"\n",
        "    else:\n",
        "        return \"Mix of cases\""
      ],
      "metadata": {
        "id": "zTYBT5ImqwLO"
      },
      "execution_count": 12,
      "outputs": []
    },
    {
      "cell_type": "code",
      "source": [
        "def pass_or_fail(score):\n",
        "    return \"Pass\" if score >= 50 else \"Fail\""
      ],
      "metadata": {
        "id": "XbmVYk_Aq0wc"
      },
      "execution_count": 13,
      "outputs": []
    },
    {
      "cell_type": "code",
      "source": [
        "def divisible_by_2_and_3(num):\n",
        "    if num % 2 == 0 and num % 3 == 0:\n",
        "        return \"Divisible by both 2 and 3\"\n",
        "    elif num % 2 == 0:\n",
        "        return \"Divisible by 2 only\"\n",
        "    elif num % 3 == 0:\n",
        "        return \"Divisible by 3 only\"\n",
        "    else:\n",
        "        return \"Not divisible by 2 or 3\""
      ],
      "metadata": {
        "id": "04Gc6YQmq3o3"
      },
      "execution_count": 14,
      "outputs": []
    },
    {
      "cell_type": "code",
      "source": [
        "def triangle_type(a, b, c):\n",
        "    if a == b == c:\n",
        "        return \"Equilateral\"\n",
        "    elif a == b or b == c or a == c:\n",
        "        return \"Isosceles\"\n",
        "    else:\n",
        "        return \"Scalene\""
      ],
      "metadata": {
        "id": "hiJ2P3oaq5lQ"
      },
      "execution_count": 15,
      "outputs": []
    },
    {
      "cell_type": "code",
      "source": [
        "def in_range(num, lower, upper):\n",
        "    return lower <= num <= upper"
      ],
      "metadata": {
        "id": "tlQd3nD8q9zL"
      },
      "execution_count": 16,
      "outputs": []
    },
    {
      "cell_type": "code",
      "source": [
        "def is_century_year(year):\n",
        "    return year % 100 == 0"
      ],
      "metadata": {
        "id": "a8BlD1c6rE75"
      },
      "execution_count": 17,
      "outputs": []
    },
    {
      "cell_type": "code",
      "source": [
        "def calculate(a, b, operator):\n",
        "    if operator == '+':\n",
        "        return a + b\n",
        "    elif operator == '-':\n",
        "        return a - b\n",
        "    elif operator == '*':\n",
        "        return a * b\n",
        "    elif operator == '/':\n",
        "        return a / b"
      ],
      "metadata": {
        "id": "MWY1cpnOrHYj"
      },
      "execution_count": 20,
      "outputs": []
    },
    {
      "cell_type": "code",
      "source": [
        "def temperature_check(temp_celsius):\n",
        "    if temp_celsius <= 0:\n",
        "        return \"Freezing\"\n",
        "    elif temp_celsius <= 25:\n",
        "        return \"Moderate\"\n",
        "    else:\n",
        "        return \"Hot\"\n"
      ],
      "metadata": {
        "id": "yglfz8fdrJoM"
      },
      "execution_count": 21,
      "outputs": []
    },
    {
      "cell_type": "code",
      "source": [
        "def vowel_or_consonant(char):\n",
        "    return \"Vowel\" if char.lower() in 'aeiou' else \"Consonant\"\n"
      ],
      "metadata": {
        "id": "mgH3QMfyrSdb"
      },
      "execution_count": 22,
      "outputs": []
    },
    {
      "cell_type": "code",
      "source": [],
      "metadata": {
        "id": "SzH2i6GMrWd9"
      },
      "execution_count": null,
      "outputs": []
    },
    {
      "cell_type": "code",
      "source": [],
      "metadata": {
        "id": "7PjgsJakrgr0"
      },
      "execution_count": null,
      "outputs": []
    },
    {
      "cell_type": "code",
      "source": [
        "for i in range(1, 21):\n",
        "    print(i)"
      ],
      "metadata": {
        "colab": {
          "base_uri": "https://localhost:8080/"
        },
        "id": "vM17FOcargyl",
        "outputId": "b61a66ce-6a85-43a2-918f-d52ada39a9fb"
      },
      "execution_count": 35,
      "outputs": [
        {
          "output_type": "stream",
          "name": "stdout",
          "text": [
            "1\n",
            "2\n",
            "3\n",
            "4\n",
            "5\n",
            "6\n",
            "7\n",
            "8\n",
            "9\n",
            "10\n",
            "11\n",
            "12\n",
            "13\n",
            "14\n",
            "15\n",
            "16\n",
            "17\n",
            "18\n",
            "19\n",
            "20\n"
          ]
        }
      ]
    },
    {
      "cell_type": "code",
      "source": [
        "i = 1\n",
        "while i <= 50:\n",
        "    if i % 2 == 0:\n",
        "        print(i)\n",
        "    i += 1"
      ],
      "metadata": {
        "colab": {
          "base_uri": "https://localhost:8080/"
        },
        "id": "7cinkooSrhGC",
        "outputId": "618d565d-9422-4161-933c-7b73bb3cd9d5"
      },
      "execution_count": 34,
      "outputs": [
        {
          "output_type": "stream",
          "name": "stdout",
          "text": [
            "2\n",
            "4\n",
            "6\n",
            "8\n",
            "10\n",
            "12\n",
            "14\n",
            "16\n",
            "18\n",
            "20\n",
            "22\n",
            "24\n",
            "26\n",
            "28\n",
            "30\n",
            "32\n",
            "34\n",
            "36\n",
            "38\n",
            "40\n",
            "42\n",
            "44\n",
            "46\n",
            "48\n",
            "50\n"
          ]
        }
      ]
    },
    {
      "cell_type": "code",
      "source": [
        "def print_reverse_range(start, end):\n",
        "    for i in range(start, end - 1, -1):\n",
        "        print(i)\n"
      ],
      "metadata": {
        "id": "6rhsFR_Zrkrb"
      },
      "execution_count": 31,
      "outputs": []
    },
    {
      "cell_type": "code",
      "source": [
        "def factorial(n):\n",
        "    result = 1\n",
        "    i = 1\n",
        "    while i <= n:\n",
        "        result *= i\n",
        "        i += 1\n",
        "    return result"
      ],
      "metadata": {
        "id": "VIAH_kDErrtA"
      },
      "execution_count": 32,
      "outputs": []
    },
    {
      "cell_type": "code",
      "source": [
        "def reverse_number(num):\n",
        "    reversed_num = 0\n",
        "    while num > 0:\n",
        "        reversed_num = reversed_num * 10 + num % 10\n",
        "        num //= 10\n",
        "    return reversed_num\n"
      ],
      "metadata": {
        "id": "ZgX1V0OErv3u"
      },
      "execution_count": 33,
      "outputs": []
    },
    {
      "cell_type": "code",
      "source": [],
      "metadata": {
        "id": "SFoevZ4TrzOK"
      },
      "execution_count": null,
      "outputs": []
    }
  ]
}